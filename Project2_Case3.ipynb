{
 "cells": [
  {
   "cell_type": "code",
   "execution_count": 2,
   "id": "00bb227a",
   "metadata": {},
   "outputs": [],
   "source": [
    "import pandas as pd"
   ]
  },
  {
   "cell_type": "markdown",
   "id": "c03bd24a",
   "metadata": {},
   "source": [
    "###### 1. Import csv file"
   ]
  },
  {
   "cell_type": "code",
   "execution_count": 18,
   "id": "463ca259",
   "metadata": {},
   "outputs": [],
   "source": [
    "df=pd.read_csv(\"https://raw.githubusercontent.com/amberferger/DATA607_Project2/master/Unemployment%20Data.csv\")"
   ]
  },
  {
   "cell_type": "markdown",
   "id": "d450c03a",
   "metadata": {},
   "source": [
    "###### 2. change the name of first column to \"Year\""
   ]
  },
  {
   "cell_type": "code",
   "execution_count": 20,
   "id": "fc264a02",
   "metadata": {},
   "outputs": [],
   "source": [
    "df.rename(columns = {'Unnamed: 0': 'Year'},inplace=True)"
   ]
  },
  {
   "cell_type": "markdown",
   "id": "85e746ff",
   "metadata": {},
   "source": [
    "###### 3. Delete the first blank row"
   ]
  },
  {
   "cell_type": "code",
   "execution_count": 21,
   "id": "d19069a1",
   "metadata": {},
   "outputs": [],
   "source": [
    "df=df.drop(0)"
   ]
  },
  {
   "cell_type": "markdown",
   "id": "b24a25ea",
   "metadata": {},
   "source": [
    "###### 4. Convert the year column to integer"
   ]
  },
  {
   "cell_type": "code",
   "execution_count": 28,
   "id": "03b9e2c0",
   "metadata": {},
   "outputs": [],
   "source": [
    "df[\"Year\"]=df[\"Year\"].astype(int)"
   ]
  },
  {
   "cell_type": "markdown",
   "id": "0453c2eb",
   "metadata": {},
   "source": [
    "###### 5. Fill the null values with zero."
   ]
  },
  {
   "cell_type": "code",
   "execution_count": 30,
   "id": "36e9c6c6",
   "metadata": {},
   "outputs": [],
   "source": [
    "df=df.fillna(0)"
   ]
  },
  {
   "cell_type": "markdown",
   "id": "09bee360",
   "metadata": {},
   "source": [
    "###### 6. Unpivot the data frame"
   ]
  },
  {
   "cell_type": "code",
   "execution_count": 34,
   "id": "58c413b4",
   "metadata": {},
   "outputs": [],
   "source": [
    "ndf=df.melt(id_vars='Year',var_name='Territory',value_name='UnemploymentRate')"
   ]
  },
  {
   "cell_type": "markdown",
   "id": "1402a3ec",
   "metadata": {},
   "source": [
    "###### 7. Take the most recent 5 years for further analysis"
   ]
  },
  {
   "cell_type": "code",
   "execution_count": 36,
   "id": "3b44ab0c",
   "metadata": {},
   "outputs": [],
   "source": [
    "ndf=ndf[(ndf.Year>=2016)]"
   ]
  },
  {
   "cell_type": "markdown",
   "id": "55321552",
   "metadata": {},
   "source": [
    "###### 8. Take the main countries in north and south America"
   ]
  },
  {
   "cell_type": "code",
   "execution_count": 44,
   "id": "25e09d39",
   "metadata": {},
   "outputs": [
    {
     "data": {
      "text/html": [
       "<div>\n",
       "<style scoped>\n",
       "    .dataframe tbody tr th:only-of-type {\n",
       "        vertical-align: middle;\n",
       "    }\n",
       "\n",
       "    .dataframe tbody tr th {\n",
       "        vertical-align: top;\n",
       "    }\n",
       "\n",
       "    .dataframe thead th {\n",
       "        text-align: right;\n",
       "    }\n",
       "</style>\n",
       "<table border=\"1\" class=\"dataframe\">\n",
       "  <thead>\n",
       "    <tr style=\"text-align: right;\">\n",
       "      <th></th>\n",
       "      <th>Year</th>\n",
       "      <th>Territory</th>\n",
       "      <th>UnemploymentRate</th>\n",
       "    </tr>\n",
       "  </thead>\n",
       "  <tbody>\n",
       "    <tr>\n",
       "      <th>56</th>\n",
       "      <td>2016</td>\n",
       "      <td>Argentina</td>\n",
       "      <td>8.467953</td>\n",
       "    </tr>\n",
       "    <tr>\n",
       "      <th>57</th>\n",
       "      <td>2017</td>\n",
       "      <td>Argentina</td>\n",
       "      <td>8.344703</td>\n",
       "    </tr>\n",
       "    <tr>\n",
       "      <th>58</th>\n",
       "      <td>2018</td>\n",
       "      <td>Argentina</td>\n",
       "      <td>9.232772</td>\n",
       "    </tr>\n",
       "    <tr>\n",
       "      <th>59</th>\n",
       "      <td>2019</td>\n",
       "      <td>Argentina</td>\n",
       "      <td>0.000000</td>\n",
       "    </tr>\n",
       "    <tr>\n",
       "      <th>266</th>\n",
       "      <td>2016</td>\n",
       "      <td>Brazil</td>\n",
       "      <td>11.281130</td>\n",
       "    </tr>\n",
       "    <tr>\n",
       "      <th>267</th>\n",
       "      <td>2017</td>\n",
       "      <td>Brazil</td>\n",
       "      <td>12.764030</td>\n",
       "    </tr>\n",
       "    <tr>\n",
       "      <th>268</th>\n",
       "      <td>2018</td>\n",
       "      <td>Brazil</td>\n",
       "      <td>12.257910</td>\n",
       "    </tr>\n",
       "    <tr>\n",
       "      <th>269</th>\n",
       "      <td>2019</td>\n",
       "      <td>Brazil</td>\n",
       "      <td>0.000000</td>\n",
       "    </tr>\n",
       "    <tr>\n",
       "      <th>296</th>\n",
       "      <td>2016</td>\n",
       "      <td>Canada</td>\n",
       "      <td>6.991667</td>\n",
       "    </tr>\n",
       "    <tr>\n",
       "      <th>297</th>\n",
       "      <td>2017</td>\n",
       "      <td>Canada</td>\n",
       "      <td>6.333333</td>\n",
       "    </tr>\n",
       "    <tr>\n",
       "      <th>298</th>\n",
       "      <td>2018</td>\n",
       "      <td>Canada</td>\n",
       "      <td>5.825000</td>\n",
       "    </tr>\n",
       "    <tr>\n",
       "      <th>299</th>\n",
       "      <td>2019</td>\n",
       "      <td>Canada</td>\n",
       "      <td>5.675000</td>\n",
       "    </tr>\n",
       "    <tr>\n",
       "      <th>1586</th>\n",
       "      <td>2016</td>\n",
       "      <td>Mexico</td>\n",
       "      <td>3.882500</td>\n",
       "    </tr>\n",
       "    <tr>\n",
       "      <th>1587</th>\n",
       "      <td>2017</td>\n",
       "      <td>Mexico</td>\n",
       "      <td>3.420833</td>\n",
       "    </tr>\n",
       "    <tr>\n",
       "      <th>1588</th>\n",
       "      <td>2018</td>\n",
       "      <td>Mexico</td>\n",
       "      <td>3.328333</td>\n",
       "    </tr>\n",
       "    <tr>\n",
       "      <th>1589</th>\n",
       "      <td>2019</td>\n",
       "      <td>Mexico</td>\n",
       "      <td>0.000000</td>\n",
       "    </tr>\n",
       "    <tr>\n",
       "      <th>2396</th>\n",
       "      <td>2016</td>\n",
       "      <td>United States</td>\n",
       "      <td>4.875000</td>\n",
       "    </tr>\n",
       "    <tr>\n",
       "      <th>2397</th>\n",
       "      <td>2017</td>\n",
       "      <td>United States</td>\n",
       "      <td>4.350000</td>\n",
       "    </tr>\n",
       "    <tr>\n",
       "      <th>2398</th>\n",
       "      <td>2018</td>\n",
       "      <td>United States</td>\n",
       "      <td>3.891667</td>\n",
       "    </tr>\n",
       "    <tr>\n",
       "      <th>2399</th>\n",
       "      <td>2019</td>\n",
       "      <td>United States</td>\n",
       "      <td>3.737500</td>\n",
       "    </tr>\n",
       "  </tbody>\n",
       "</table>\n",
       "</div>"
      ],
      "text/plain": [
       "      Year      Territory  UnemploymentRate\n",
       "56    2016      Argentina          8.467953\n",
       "57    2017      Argentina          8.344703\n",
       "58    2018      Argentina          9.232772\n",
       "59    2019      Argentina          0.000000\n",
       "266   2016         Brazil         11.281130\n",
       "267   2017         Brazil         12.764030\n",
       "268   2018         Brazil         12.257910\n",
       "269   2019         Brazil          0.000000\n",
       "296   2016         Canada          6.991667\n",
       "297   2017         Canada          6.333333\n",
       "298   2018         Canada          5.825000\n",
       "299   2019         Canada          5.675000\n",
       "1586  2016         Mexico          3.882500\n",
       "1587  2017         Mexico          3.420833\n",
       "1588  2018         Mexico          3.328333\n",
       "1589  2019         Mexico          0.000000\n",
       "2396  2016  United States          4.875000\n",
       "2397  2017  United States          4.350000\n",
       "2398  2018  United States          3.891667\n",
       "2399  2019  United States          3.737500"
      ]
     },
     "execution_count": 44,
     "metadata": {},
     "output_type": "execute_result"
    }
   ],
   "source": [
    "ndf=ndf[ndf.Territory.isin([\"United States\",\"Brazil\",\"Canada\",\"Mexico\",\"Argentina\"])]"
   ]
  }
 ],
 "metadata": {
  "kernelspec": {
   "display_name": "Python 3",
   "language": "python",
   "name": "python3"
  },
  "language_info": {
   "codemirror_mode": {
    "name": "ipython",
    "version": 3
   },
   "file_extension": ".py",
   "mimetype": "text/x-python",
   "name": "python",
   "nbconvert_exporter": "python",
   "pygments_lexer": "ipython3",
   "version": "3.8.8"
  }
 },
 "nbformat": 4,
 "nbformat_minor": 5
}
